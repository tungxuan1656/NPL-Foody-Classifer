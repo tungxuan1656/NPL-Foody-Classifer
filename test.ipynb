{
 "cells": [
  {
   "cell_type": "code",
   "execution_count": 1,
   "metadata": {},
   "outputs": [],
   "source": [
    "import numpy as np\n",
    "import glob\n",
    "import re\n",
    "from sklearn.feature_extraction.text import TfidfVectorizer"
   ]
  },
  {
   "cell_type": "code",
   "execution_count": 2,
   "metadata": {},
   "outputs": [],
   "source": [
    "def remove_stop_words(data):\n",
    "    out = []\n",
    "    for d in data:\n",
    "        o = re.sub(r\"\"\"[0-9!\"\\[\\]#$%&()*+,-./:;<=>?@^`{|}~\\\\\\n–\\']\"\"\", '', d).replace('_', ' ')\n",
    "        out.append(o)\n",
    "    return out\n",
    "\n",
    "\n",
    "def load_comments(path):\n",
    "    paths = glob.glob(path)\n",
    "    comments = []\n",
    "    for path in paths:\n",
    "        with open(path, encoding=\"utf-8\") as file:\n",
    "            text = file.read()\n",
    "            text_lower = text.lower()\n",
    "            comments.append(text_lower)\n",
    "        file.close()\n",
    "    print(len(comments))\n",
    "    return remove_stop_words(comments)"
   ]
  },
  {
   "cell_type": "code",
   "execution_count": 3,
   "metadata": {},
   "outputs": [
    {
     "name": "stdout",
     "output_type": "stream",
     "text": [
      "15000\n",
      "15000\n",
      "5000\n",
      "5000\n",
      "5000\n",
      "5000\n"
     ]
    }
   ],
   "source": [
    "train_neg = load_comments('data_train/train/neg/*.txt')\n",
    "train_pos = load_comments('data_train/train/pos/*.txt')\n",
    "val_neg = load_comments('data_train/test/neg/*.txt')\n",
    "val_pos = load_comments('data_train/test/pos/*.txt')\n",
    "test_neg = load_comments('data_test/test/neg/*.txt')\n",
    "test_pos = load_comments('data_test/test/pos/*.txt')"
   ]
  },
  {
   "cell_type": "code",
   "execution_count": 4,
   "metadata": {},
   "outputs": [],
   "source": [
    "import pickle"
   ]
  },
  {
   "cell_type": "code",
   "execution_count": 5,
   "metadata": {},
   "outputs": [],
   "source": [
    "with open('train_neg.dt', 'wb') as datafile:\n",
    "    pickle.dump(train_neg, datafile)\n",
    "with open('train_pos.dt', 'wb') as datafile:\n",
    "    pickle.dump(train_pos, datafile)\n",
    "with open('val_neg.dt', 'wb') as datafile:\n",
    "    pickle.dump(val_neg, datafile)\n",
    "with open('val_pos.dt', 'wb') as datafile:\n",
    "    pickle.dump(val_pos, datafile)\n",
    "with open('test_neg.dt', 'wb') as datafile:\n",
    "    pickle.dump(test_neg, datafile)\n",
    "with open('test_pos.dt', 'wb') as datafile:\n",
    "    pickle.dump(test_pos, datafile)"
   ]
  }
 ],
 "metadata": {
  "kernelspec": {
   "display_name": "Python 3",
   "language": "python",
   "name": "python3"
  },
  "language_info": {
   "codemirror_mode": {
    "name": "ipython",
    "version": 3
   },
   "file_extension": ".py",
   "mimetype": "text/x-python",
   "name": "python",
   "nbconvert_exporter": "python",
   "pygments_lexer": "ipython3",
   "version": "3.6.6"
  }
 },
 "nbformat": 4,
 "nbformat_minor": 2
}

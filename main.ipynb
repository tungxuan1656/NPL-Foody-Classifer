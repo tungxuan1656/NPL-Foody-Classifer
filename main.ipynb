{
  "nbformat": 4,
  "nbformat_minor": 0,
  "metadata": {
    "colab": {
      "name": "Foody-2.ipynb",
      "version": "0.3.2",
      "provenance": []
    },
    "language_info": {
      "codemirror_mode": {
        "name": "ipython",
        "version": 3
      },
      "file_extension": ".py",
      "mimetype": "text/x-python",
      "name": "python",
      "nbconvert_exporter": "python",
      "pygments_lexer": "ipython3",
      "version": "3.6.6"
    },
    "kernelspec": {
      "name": "python3",
      "display_name": "Python 3"
    },
    "accelerator": "GPU"
  },
  "cells": [
    {
      "cell_type": "code",
      "metadata": {
        "id": "k7z1uM3JVwzo",
        "colab_type": "code",
        "outputId": "7e41c44b-736e-47d6-ad57-ca587f35ede7",
        "colab": {
          "base_uri": "https://localhost:8080/",
          "height": 34
        }
      },
      "source": [
        "import numpy as np\n",
        "import glob\n",
        "import re\n",
        "import pickle\n",
        "from sklearn.feature_extraction.text import TfidfVectorizer\n",
        "from sklearn.metrics import confusion_matrix\n",
        "from keras.models import Sequential\n",
        "from keras.layers import Dense, Dropout, Activation"
      ],
      "execution_count": 0,
      "outputs": [
        {
          "output_type": "stream",
          "text": [
            "Using TensorFlow backend.\n"
          ],
          "name": "stderr"
        }
      ]
    },
    {
      "cell_type": "code",
      "metadata": {
        "id": "02lSNtJZWlPo",
        "colab_type": "code",
        "colab": {}
      },
      "source": [
        "def print_result(y_pred, y_test, clf_name):\n",
        "    matrix = confusion_matrix(y_test, y_pred)\n",
        "    TP, FP = matrix[0]\n",
        "    FN, TN = matrix[1]\n",
        "    PPV = (TP * 1.0) / (TP + FP)\n",
        "    TPR = (TP * 1.0) / (TP + FN)\n",
        "    TNR = (FP * 1.0) / (TN + FP)\n",
        "    ACC = (TP + TN) * 1.0 / (TP + TN + FP + FN)\n",
        "    F1 = 2.0 * PPV * TPR / (PPV + TPR)\n",
        "    print(\"%s\\t%.5f\\t%.5f\\t%.5f\\t%.5f\\t%.5f\" %\n",
        "          (clf_name, PPV, TPR, TNR, ACC, F1))"
      ],
      "execution_count": 0,
      "outputs": []
    },
    {
      "cell_type": "code",
      "metadata": {
        "id": "ZlJqLhY5Vwz9",
        "colab_type": "code",
        "colab": {}
      },
      "source": [
        "with open('train_neg.dt', 'rb') as datafile:\n",
        "    train_neg = pickle.load(datafile)\n",
        "with open('train_pos.dt', 'rb') as datafile:\n",
        "    train_pos = pickle.load(datafile)\n",
        "with open('val_neg.dt', 'rb') as datafile:\n",
        "    val_neg = pickle.load(datafile)\n",
        "with open('val_pos.dt', 'rb') as datafile:\n",
        "    val_pos = pickle.load(datafile)\n",
        "with open('test_neg.dt', 'rb') as datafile:\n",
        "    test_neg = pickle.load(datafile)\n",
        "with open('test_pos.dt', 'rb') as datafile:\n",
        "    test_pos = pickle.load(datafile)"
      ],
      "execution_count": 0,
      "outputs": []
    },
    {
      "cell_type": "code",
      "metadata": {
        "id": "qrR9IubUVw0E",
        "colab_type": "code",
        "colab": {}
      },
      "source": [
        "X_data = train_neg + train_pos + val_neg + val_pos + test_neg + test_pos"
      ],
      "execution_count": 0,
      "outputs": []
    },
    {
      "cell_type": "code",
      "metadata": {
        "id": "pnfiME0cVw0g",
        "colab_type": "code",
        "colab": {}
      },
      "source": [
        "vectorizer = TfidfVectorizer(min_df=5, sublinear_tf=True)"
      ],
      "execution_count": 0,
      "outputs": []
    },
    {
      "cell_type": "code",
      "metadata": {
        "id": "dgzsIsRlVw0l",
        "colab_type": "code",
        "colab": {}
      },
      "source": [
        "X = vectorizer.fit_transform(X_data)"
      ],
      "execution_count": 0,
      "outputs": []
    },
    {
      "cell_type": "code",
      "metadata": {
        "id": "I8C3Rk2xVw0p",
        "colab_type": "code",
        "outputId": "bac5165c-6db3-4e81-8048-9d9b0ec4d3b6",
        "colab": {
          "base_uri": "https://localhost:8080/",
          "height": 34
        }
      },
      "source": [
        "print(X.shape)"
      ],
      "execution_count": 0,
      "outputs": [
        {
          "output_type": "stream",
          "text": [
            "(50000, 8242)\n"
          ],
          "name": "stdout"
        }
      ]
    },
    {
      "cell_type": "code",
      "metadata": {
        "id": "GrVVGgK8Vw03",
        "colab_type": "code",
        "colab": {}
      },
      "source": [
        "X_train = X[:30000]\n",
        "X_val = X[30000:40000]\n",
        "X_test = X[40000:]"
      ],
      "execution_count": 0,
      "outputs": []
    },
    {
      "cell_type": "code",
      "metadata": {
        "id": "olR-7tV_Vw08",
        "colab_type": "code",
        "colab": {}
      },
      "source": [
        "y_train = [0]*15000 + [1]*15000\n",
        "y_val = [0]*5000 + [1]*5000\n",
        "y_test = [0]*5000 + [1]*5000"
      ],
      "execution_count": 0,
      "outputs": []
    },
    {
      "cell_type": "code",
      "metadata": {
        "id": "irkL22e0Vw1C",
        "colab_type": "code",
        "outputId": "8515b488-dcf2-4030-a0dc-524270342046",
        "colab": {
          "base_uri": "https://localhost:8080/",
          "height": 853
        }
      },
      "source": [
        "model = Sequential()\n",
        "model.add(Dense(128, activation='relu', input_shape=(X_train.shape[1],)))\n",
        "model.add(Dropout(0.5))\n",
        "model.add(Dense(128, activation='relu'))\n",
        "model.add(Dropout(0.25))\n",
        "model.add(Dense(1, activation='sigmoid'))\n",
        "model.summary()\n",
        "model.compile(loss='binary_crossentropy',\n",
        "              optimizer='adam',\n",
        "              metrics=['acc'])\n",
        "model.fit(X_train, y_train, validation_data=(X_val, y_val), batch_size=64, epochs=10)\n",
        "y_pred = model.predict_classes(X_test)\n",
        "print_result(y_pred, y_test, 'Deep learning standard: ')"
      ],
      "execution_count": 0,
      "outputs": [
        {
          "output_type": "stream",
          "text": [
            "WARNING:tensorflow:From /usr/local/lib/python3.6/dist-packages/tensorflow/python/framework/op_def_library.py:263: colocate_with (from tensorflow.python.framework.ops) is deprecated and will be removed in a future version.\n",
            "Instructions for updating:\n",
            "Colocations handled automatically by placer.\n",
            "WARNING:tensorflow:From /usr/local/lib/python3.6/dist-packages/keras/backend/tensorflow_backend.py:3445: calling dropout (from tensorflow.python.ops.nn_ops) with keep_prob is deprecated and will be removed in a future version.\n",
            "Instructions for updating:\n",
            "Please use `rate` instead of `keep_prob`. Rate should be set to `rate = 1 - keep_prob`.\n",
            "_________________________________________________________________\n",
            "Layer (type)                 Output Shape              Param #   \n",
            "=================================================================\n",
            "dense_1 (Dense)              (None, 128)               1055104   \n",
            "_________________________________________________________________\n",
            "dropout_1 (Dropout)          (None, 128)               0         \n",
            "_________________________________________________________________\n",
            "dense_2 (Dense)              (None, 128)               16512     \n",
            "_________________________________________________________________\n",
            "dropout_2 (Dropout)          (None, 128)               0         \n",
            "_________________________________________________________________\n",
            "dense_3 (Dense)              (None, 1)                 129       \n",
            "=================================================================\n",
            "Total params: 1,071,745\n",
            "Trainable params: 1,071,745\n",
            "Non-trainable params: 0\n",
            "_________________________________________________________________\n",
            "WARNING:tensorflow:From /usr/local/lib/python3.6/dist-packages/tensorflow/python/ops/math_ops.py:3066: to_int32 (from tensorflow.python.ops.math_ops) is deprecated and will be removed in a future version.\n",
            "Instructions for updating:\n",
            "Use tf.cast instead.\n",
            "Train on 30000 samples, validate on 10000 samples\n",
            "Epoch 1/10\n",
            "30000/30000 [==============================] - 5s 161us/step - loss: 0.3418 - acc: 0.8614 - val_loss: 0.2828 - val_acc: 0.8824\n",
            "Epoch 2/10\n",
            "30000/30000 [==============================] - 3s 116us/step - loss: 0.2354 - acc: 0.9072 - val_loss: 0.2904 - val_acc: 0.8783\n",
            "Epoch 3/10\n",
            "30000/30000 [==============================] - 3s 113us/step - loss: 0.1930 - acc: 0.9250 - val_loss: 0.3063 - val_acc: 0.8791\n",
            "Epoch 4/10\n",
            "30000/30000 [==============================] - 3s 116us/step - loss: 0.1541 - acc: 0.9436 - val_loss: 0.3474 - val_acc: 0.8738\n",
            "Epoch 5/10\n",
            "30000/30000 [==============================] - 4s 119us/step - loss: 0.1155 - acc: 0.9589 - val_loss: 0.4027 - val_acc: 0.8715\n",
            "Epoch 6/10\n",
            "30000/30000 [==============================] - 3s 113us/step - loss: 0.0854 - acc: 0.9711 - val_loss: 0.4442 - val_acc: 0.8684\n",
            "Epoch 7/10\n",
            "30000/30000 [==============================] - 3s 113us/step - loss: 0.0648 - acc: 0.9778 - val_loss: 0.5123 - val_acc: 0.8674\n",
            "Epoch 8/10\n",
            "30000/30000 [==============================] - 3s 111us/step - loss: 0.0488 - acc: 0.9840 - val_loss: 0.5498 - val_acc: 0.8651\n",
            "Epoch 9/10\n",
            "30000/30000 [==============================] - 3s 112us/step - loss: 0.0422 - acc: 0.9864 - val_loss: 0.5812 - val_acc: 0.8652\n",
            "Epoch 10/10\n",
            "30000/30000 [==============================] - 3s 111us/step - loss: 0.0357 - acc: 0.9875 - val_loss: 0.6137 - val_acc: 0.8648\n",
            "Deep learning standard: \t0.86560\t0.87878\t0.13241\t0.87310\t0.87214\n"
          ],
          "name": "stdout"
        }
      ]
    },
    {
      "cell_type": "code",
      "metadata": {
        "id": "2DY5U7xmcAlB",
        "colab_type": "code",
        "colab": {}
      },
      "source": [
        "from sklearn.svm import LinearSVC"
      ],
      "execution_count": 0,
      "outputs": []
    },
    {
      "cell_type": "code",
      "metadata": {
        "id": "tEzPxiIba9_W",
        "colab_type": "code",
        "colab": {}
      },
      "source": [
        "linear_svm = LinearSVC(C=1)"
      ],
      "execution_count": 0,
      "outputs": []
    },
    {
      "cell_type": "code",
      "metadata": {
        "id": "aILKONTYdiht",
        "colab_type": "code",
        "outputId": "e2edbde3-37c5-4007-c119-0a71c1bc98b1",
        "colab": {
          "base_uri": "https://localhost:8080/",
          "height": 34
        }
      },
      "source": [
        "print(type(X_train))"
      ],
      "execution_count": 0,
      "outputs": [
        {
          "output_type": "stream",
          "text": [
            "<class 'scipy.sparse.csr.csr_matrix'>\n"
          ],
          "name": "stdout"
        }
      ]
    },
    {
      "cell_type": "code",
      "metadata": {
        "id": "AQRfCc0Rc140",
        "colab_type": "code",
        "outputId": "02107ca8-4c6d-4b55-bcf1-97c54d484a4f",
        "colab": {
          "base_uri": "https://localhost:8080/",
          "height": 85
        }
      },
      "source": [
        "linear_svm.fit(X_train, y_train)"
      ],
      "execution_count": 0,
      "outputs": [
        {
          "output_type": "execute_result",
          "data": {
            "text/plain": [
              "LinearSVC(C=1, class_weight=None, dual=True, fit_intercept=True,\n",
              "     intercept_scaling=1, loss='squared_hinge', max_iter=1000,\n",
              "     multi_class='ovr', penalty='l2', random_state=None, tol=0.0001,\n",
              "     verbose=0)"
            ]
          },
          "metadata": {
            "tags": []
          },
          "execution_count": 15
        }
      ]
    },
    {
      "cell_type": "code",
      "metadata": {
        "id": "6_5auMBFc-wS",
        "colab_type": "code",
        "colab": {}
      },
      "source": [
        "y_pred_svm = linear_svm.predict(X_test)"
      ],
      "execution_count": 0,
      "outputs": []
    },
    {
      "cell_type": "code",
      "metadata": {
        "id": "1t2JVz-AdUbY",
        "colab_type": "code",
        "outputId": "747594d8-cada-4a2d-9d9b-b26d2fbf632c",
        "colab": {
          "base_uri": "https://localhost:8080/",
          "height": 34
        }
      },
      "source": [
        "print_result(y_pred_svm, y_test, 'Linear svm: ')"
      ],
      "execution_count": 0,
      "outputs": [
        {
          "output_type": "stream",
          "text": [
            "Linear svm: \t0.87460\t0.88540\t0.12389\t0.88070\t0.87997\n"
          ],
          "name": "stdout"
        }
      ]
    },
    {
      "cell_type": "code",
      "metadata": {
        "id": "QGdini5fdaPh",
        "colab_type": "code",
        "colab": {}
      },
      "source": [
        ""
      ],
      "execution_count": 0,
      "outputs": []
    }
  ]
}